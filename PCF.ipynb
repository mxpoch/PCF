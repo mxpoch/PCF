{
  "nbformat": 4,
  "nbformat_minor": 0,
  "metadata": {
    "colab": {
      "name": "PCF.ipynb",
      "provenance": [],
      "collapsed_sections": [],
      "authorship_tag": "ABX9TyMStJwwqu92Tz6H52qpv+fH",
      "include_colab_link": true
    },
    "kernelspec": {
      "name": "python3",
      "display_name": "Python 3"
    },
    "language_info": {
      "name": "python"
    }
  },
  "cells": [
    {
      "cell_type": "markdown",
      "metadata": {
        "id": "view-in-github",
        "colab_type": "text"
      },
      "source": [
        "<a href=\"https://colab.research.google.com/github/mxpoch/PCF/blob/main/PCF.ipynb\" target=\"_parent\"><img src=\"https://colab.research.google.com/assets/colab-badge.svg\" alt=\"Open In Colab\"/></a>"
      ]
    },
    {
      "cell_type": "code",
      "metadata": {
        "id": "Kv-6UVgq23kg"
      },
      "source": [
        "# key words:\n",
        "# savings = constant\n",
        "# none = reserved for root parent"
      ],
      "execution_count": null,
      "outputs": []
    },
    {
      "cell_type": "code",
      "metadata": {
        "id": "V-Z15WEup4ND"
      },
      "source": [
        "# authentication\n",
        "from google.colab import auth\n",
        "auth.authenticate_user()\n",
        "import gspread\n",
        "from oauth2client.client import GoogleCredentials\n",
        "gc = gspread.authorize(GoogleCredentials.get_application_default())"
      ],
      "execution_count": 487,
      "outputs": []
    },
    {
      "cell_type": "code",
      "metadata": {
        "id": "Z9NoAsypt3oA"
      },
      "source": [
        "# importing\n",
        "import pandas as pd\n",
        "import matplotlib.pyplot as plt\n",
        "wb = gc.open_by_url('https://docs.google.com/spreadsheets/d/1X4ahQA0pLWN3dd4X64pKShYLzDhvdM3frwBqAY7FfXY/edit?usp=sharing')\n",
        "\n",
        "read_inputnodes = wb.worksheet('InputNodes').get_all_values()\n",
        "read_indextree = wb.worksheet('IndexTree').get_all_values()\n",
        "\n",
        "raw_inputnodes = pd.DataFrame(read_inputnodes[1:], columns=read_inputnodes[0])\n",
        "# gspread imports everything as string, converting value and timeframe columns to numeric\n",
        "raw_inputnodes = raw_inputnodes.drop(columns=['value', 'timeframe']).join(raw_inputnodes[['value', 'timeframe']].apply(pd.to_numeric))\n",
        "\n",
        "raw_indextree = pd.DataFrame(read_indextree[1:], columns=read_indextree[0])"
      ],
      "execution_count": 488,
      "outputs": []
    },
    {
      "cell_type": "code",
      "metadata": {
        "colab": {
          "base_uri": "https://localhost:8080/",
          "height": 172
        },
        "id": "TUbUnJQwBimK",
        "outputId": "6dc3fddd-59bd-4b13-ba78-a4e951bf5fb9"
      },
      "source": [
        "raw_inputnodes"
      ],
      "execution_count": 489,
      "outputs": [
        {
          "output_type": "execute_result",
          "data": {
            "text/html": [
              "<div>\n",
              "<style scoped>\n",
              "    .dataframe tbody tr th:only-of-type {\n",
              "        vertical-align: middle;\n",
              "    }\n",
              "\n",
              "    .dataframe tbody tr th {\n",
              "        vertical-align: top;\n",
              "    }\n",
              "\n",
              "    .dataframe thead th {\n",
              "        text-align: right;\n",
              "    }\n",
              "</style>\n",
              "<table border=\"1\" class=\"dataframe\">\n",
              "  <thead>\n",
              "    <tr style=\"text-align: right;\">\n",
              "      <th></th>\n",
              "      <th>name</th>\n",
              "      <th>parent</th>\n",
              "      <th>value</th>\n",
              "      <th>timeframe</th>\n",
              "    </tr>\n",
              "  </thead>\n",
              "  <tbody>\n",
              "    <tr>\n",
              "      <th>0</th>\n",
              "      <td>tuition</td>\n",
              "      <td>tuition&amp;fees</td>\n",
              "      <td>-4000</td>\n",
              "      <td>120</td>\n",
              "    </tr>\n",
              "    <tr>\n",
              "      <th>1</th>\n",
              "      <td>sci_fees</td>\n",
              "      <td>tuition&amp;fees</td>\n",
              "      <td>-8</td>\n",
              "      <td>30</td>\n",
              "    </tr>\n",
              "    <tr>\n",
              "      <th>2</th>\n",
              "      <td>food</td>\n",
              "      <td>root</td>\n",
              "      <td>-40</td>\n",
              "      <td>1</td>\n",
              "    </tr>\n",
              "    <tr>\n",
              "      <th>3</th>\n",
              "      <td>rent</td>\n",
              "      <td>money</td>\n",
              "      <td>-900</td>\n",
              "      <td>30</td>\n",
              "    </tr>\n",
              "  </tbody>\n",
              "</table>\n",
              "</div>"
            ],
            "text/plain": [
              "       name        parent  value  timeframe\n",
              "0   tuition  tuition&fees  -4000        120\n",
              "1  sci_fees  tuition&fees     -8         30\n",
              "2      food          root    -40          1\n",
              "3     rent          money   -900         30"
            ]
          },
          "metadata": {
            "tags": []
          },
          "execution_count": 489
        }
      ]
    },
    {
      "cell_type": "code",
      "metadata": {
        "id": "nsncPHMU1qp4"
      },
      "source": [
        "class IndexTree:\n",
        "    def __init__(self, raw_indextree:pd.DataFrame(), raw_inputnodes:pd.DataFrame()): \n",
        "        # print(raw_indextree)\n",
        "        self.indexdict = self.build_index_tree(raw_indextree, raw_inputnodes)\n",
        "        self.valuedict = self.build_input_nodes(raw_inputnodes)\n",
        "\n",
        "    def build_input_nodes(self, raw_inputnodes:pd.DataFrame()) -> dict:\n",
        "        retdict = {}\n",
        "        for i in range(raw_inputnodes.shape[0]):\n",
        "            current = raw_inputnodes.iloc[i]\n",
        "            retdict[current['name'].replace(' ', '')] = {col:current[col] for col in current.index if col != 'name'}\n",
        "        return retdict\n",
        "\n",
        "    def build_index_tree(self, raw_indextree:pd.DataFrame(), raw_inputnodes:pd.DataFrame()) -> dict:\n",
        "        retdict = {}\n",
        "        for i in range(raw_indextree.shape[0]):\n",
        "            current = raw_indextree.iloc[i]\n",
        "            children = raw_indextree[raw_indextree['parent'] == current['name']]\n",
        "            node_children = raw_inputnodes[raw_inputnodes['parent'] == current['name']]\n",
        "            \n",
        "            if children.shape[0] == 0 and node_children.shape[0] == 0:\n",
        "                retdict[current['name']] = 0\n",
        "                continue\n",
        "\n",
        "            children = children['name'].tolist()+node_children['name'].tolist()\n",
        "            retdict[current['name']] = list(map(lambda x: x.replace(' ', \"\"), children)) #cleans up any mistaken spaces\n",
        "        \n",
        "        return retdict\n",
        "    \n",
        "    def sum_all_worker(self, name:str, currentsum:list, timeframe:int):\n",
        "        if name not in self.indexdict.keys():\n",
        "            currentsum[0] += self.get_current_value(name, timeframe)\n",
        "            return\n",
        "\n",
        "        for next in self.indexdict[name]:\n",
        "            self.sum_all_worker(next, currentsum, timeframe)\n",
        "    \n",
        "    def sum_all(self, name:str, timeframe:int) -> int:\n",
        "        currentsum = [0] # necessary to pass by reference in python\n",
        "        self.sum_all_worker(name, currentsum, timeframe)\n",
        "        return float(currentsum[0])\n",
        "\n",
        "    def get_current_value(self, name:str, timeframe:int) -> int:\n",
        "        return self.valuedict[name]['value']*(timeframe/self.valuedict[name]['timeframe'])\n",
        "\n",
        "    def pretty_worker(self, name:str, recurdepth:int):\n",
        "        print(\"   \"*recurdepth, name,\"$\"+str(self.sum_all(name, 30)))\n",
        "        if name not in self.indexdict.keys():\n",
        "            return\n",
        "        for next in self.indexdict[name]:\n",
        "            self.pretty_worker(next, recurdepth+1)\n",
        "    \n",
        "    def pretty_print_index(self):\n",
        "        print('Nodes:')\n",
        "        self.pretty_worker('root', 0) "
      ],
      "execution_count": 490,
      "outputs": []
    },
    {
      "cell_type": "code",
      "metadata": {
        "id": "xGlOP5nv3Ely"
      },
      "source": [
        "IT = IndexTree(raw_indextree, raw_inputnodes)"
      ],
      "execution_count": 491,
      "outputs": []
    },
    {
      "cell_type": "code",
      "metadata": {
        "colab": {
          "base_uri": "https://localhost:8080/"
        },
        "id": "3wo2nUKcIPNQ",
        "outputId": "ddac3100-a544-4e49-d2a8-1206c05b7ceb"
      },
      "source": [
        "IT.sum_all('tuition&fees', 120)"
      ],
      "execution_count": 492,
      "outputs": [
        {
          "output_type": "execute_result",
          "data": {
            "text/plain": [
              "-4032.0"
            ]
          },
          "metadata": {
            "tags": []
          },
          "execution_count": 492
        }
      ]
    },
    {
      "cell_type": "code",
      "metadata": {
        "colab": {
          "base_uri": "https://localhost:8080/"
        },
        "id": "VpL1A5ZnS5Jg",
        "outputId": "a7e3e75e-64cd-4abd-9c47-a391d2a2e123"
      },
      "source": [
        "IT.pretty_print_index()"
      ],
      "execution_count": 493,
      "outputs": [
        {
          "output_type": "stream",
          "text": [
            "Nodes:\n",
            " root $-3108.0\n",
            "    money $-1908.0\n",
            "       tuition&fees $-1008.0\n",
            "          tuition $-1000.0\n",
            "          sci_fees $-8.0\n",
            "       rent $-900.0\n",
            "    food $-1200.0\n"
          ],
          "name": "stdout"
        }
      ]
    },
    {
      "cell_type": "code",
      "metadata": {
        "id": "GWc8QfrOThNe"
      },
      "source": [
        ""
      ],
      "execution_count": null,
      "outputs": []
    }
  ]
}