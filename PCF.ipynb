{
  "nbformat": 4,
  "nbformat_minor": 0,
  "metadata": {
    "colab": {
      "name": "PCF.ipynb",
      "provenance": [],
      "collapsed_sections": [],
      "authorship_tag": "ABX9TyPQx9dLQ/6MXiKPePE216t1",
      "include_colab_link": true
    },
    "kernelspec": {
      "name": "python3",
      "display_name": "Python 3"
    },
    "language_info": {
      "name": "python"
    }
  },
  "cells": [
    {
      "cell_type": "markdown",
      "metadata": {
        "id": "view-in-github",
        "colab_type": "text"
      },
      "source": [
        "<a href=\"https://colab.research.google.com/github/mxpoch/PCF/blob/main/PCF.ipynb\" target=\"_parent\"><img src=\"https://colab.research.google.com/assets/colab-badge.svg\" alt=\"Open In Colab\"/></a>"
      ]
    },
    {
      "cell_type": "code",
      "metadata": {
        "id": "Kv-6UVgq23kg"
      },
      "source": [
        "# key words:\n",
        "# savings = constant\n",
        "# none = reserved for root parent"
      ],
      "execution_count": null,
      "outputs": []
    },
    {
      "cell_type": "code",
      "metadata": {
        "id": "V-Z15WEup4ND"
      },
      "source": [
        "# authentication\n",
        "from google.colab import auth\n",
        "auth.authenticate_user()\n",
        "import gspread\n",
        "from oauth2client.client import GoogleCredentials\n",
        "gc = gspread.authorize(GoogleCredentials.get_application_default())"
      ],
      "execution_count": 65,
      "outputs": []
    },
    {
      "cell_type": "code",
      "metadata": {
        "id": "Z9NoAsypt3oA"
      },
      "source": [
        "# importing\n",
        "import pandas as pd\n",
        "import matplotlib.pyplot as plt\n",
        "wb = gc.open_by_url('https://docs.google.com/spreadsheets/d/1X4ahQA0pLWN3dd4X64pKShYLzDhvdM3frwBqAY7FfXY/edit?usp=sharing')\n",
        "\n",
        "read_inputnodes = wb.worksheet('InputNodes').get_all_values()\n",
        "read_indextree = wb.worksheet('IndexTree').get_all_values()\n",
        "\n",
        "raw_inputnodes = pd.DataFrame(read_inputnodes[1:], columns=read_inputnodes[0])\n",
        "# gspread imports everything as string, converting value and timeframe columns to numeric\n",
        "raw_inputnodes = raw_inputnodes.drop(columns=['value', 'period', 'percent']).join(raw_inputnodes[['value', 'period', 'percent']].apply(pd.to_numeric))\n",
        "\n",
        "raw_indextree = pd.DataFrame(read_indextree[1:], columns=read_indextree[0])"
      ],
      "execution_count": 251,
      "outputs": []
    },
    {
      "cell_type": "code",
      "metadata": {
        "colab": {
          "base_uri": "https://localhost:8080/",
          "height": 204
        },
        "id": "TUbUnJQwBimK",
        "outputId": "59327349-3976-4929-dad3-cfb5be8e87c9"
      },
      "source": [
        "raw_inputnodes"
      ],
      "execution_count": 252,
      "outputs": [
        {
          "output_type": "execute_result",
          "data": {
            "text/html": [
              "<div>\n",
              "<style scoped>\n",
              "    .dataframe tbody tr th:only-of-type {\n",
              "        vertical-align: middle;\n",
              "    }\n",
              "\n",
              "    .dataframe tbody tr th {\n",
              "        vertical-align: top;\n",
              "    }\n",
              "\n",
              "    .dataframe thead th {\n",
              "        text-align: right;\n",
              "    }\n",
              "</style>\n",
              "<table border=\"1\" class=\"dataframe\">\n",
              "  <thead>\n",
              "    <tr style=\"text-align: right;\">\n",
              "      <th></th>\n",
              "      <th>name</th>\n",
              "      <th>startdate</th>\n",
              "      <th>enddate</th>\n",
              "      <th>parent</th>\n",
              "      <th>ratetype</th>\n",
              "      <th>value</th>\n",
              "      <th>period</th>\n",
              "      <th>percent</th>\n",
              "    </tr>\n",
              "  </thead>\n",
              "  <tbody>\n",
              "    <tr>\n",
              "      <th>0</th>\n",
              "      <td>rent</td>\n",
              "      <td>09012021</td>\n",
              "      <td>01012021</td>\n",
              "      <td>tuition&amp;fees</td>\n",
              "      <td>linear</td>\n",
              "      <td>-6392</td>\n",
              "      <td>120</td>\n",
              "      <td>0.0</td>\n",
              "    </tr>\n",
              "    <tr>\n",
              "      <th>1</th>\n",
              "      <td>sci_fees</td>\n",
              "      <td>09012021</td>\n",
              "      <td>01012021</td>\n",
              "      <td>tuition&amp;fees</td>\n",
              "      <td>linear</td>\n",
              "      <td>-8</td>\n",
              "      <td>30</td>\n",
              "      <td>0.0</td>\n",
              "    </tr>\n",
              "    <tr>\n",
              "      <th>2</th>\n",
              "      <td>food</td>\n",
              "      <td>09012021</td>\n",
              "      <td>01012021</td>\n",
              "      <td>root</td>\n",
              "      <td>linear</td>\n",
              "      <td>-40</td>\n",
              "      <td>1</td>\n",
              "      <td>0.0</td>\n",
              "    </tr>\n",
              "    <tr>\n",
              "      <th>3</th>\n",
              "      <td>shoes</td>\n",
              "      <td>09012021</td>\n",
              "      <td>01012021</td>\n",
              "      <td>money</td>\n",
              "      <td>constant</td>\n",
              "      <td>-900</td>\n",
              "      <td>1</td>\n",
              "      <td>0.0</td>\n",
              "    </tr>\n",
              "    <tr>\n",
              "      <th>4</th>\n",
              "      <td>debt</td>\n",
              "      <td>09012021</td>\n",
              "      <td>1012021</td>\n",
              "      <td>money</td>\n",
              "      <td>compound</td>\n",
              "      <td>400</td>\n",
              "      <td>5</td>\n",
              "      <td>1.7</td>\n",
              "    </tr>\n",
              "  </tbody>\n",
              "</table>\n",
              "</div>"
            ],
            "text/plain": [
              "       name startdate   enddate        parent  ratetype  value  period  percent\n",
              "0     rent   09012021  01012021  tuition&fees    linear  -6392     120      0.0\n",
              "1  sci_fees  09012021  01012021  tuition&fees    linear     -8      30      0.0\n",
              "2      food  09012021  01012021          root    linear    -40       1      0.0\n",
              "3     shoes  09012021  01012021         money  constant   -900       1      0.0\n",
              "4      debt  09012021   1012021         money  compound    400       5      1.7"
            ]
          },
          "metadata": {
            "tags": []
          },
          "execution_count": 252
        }
      ]
    },
    {
      "cell_type": "code",
      "metadata": {
        "id": "nsncPHMU1qp4"
      },
      "source": [
        "import datetime\n",
        "class IndexTree:\n",
        "    def __init__(self, raw_indextree:pd.DataFrame(), raw_inputnodes:pd.DataFrame()): \n",
        "        # print(raw_indextree)\n",
        "        self.indexdict = self.build_index_tree(raw_indextree, raw_inputnodes)\n",
        "        self.valuedict = self.build_input_nodes(raw_inputnodes)\n",
        "        self.daymonth = [31, 28, 31, 30, 31, 30, 31, 31, 30, 31, 30, 31]\n",
        "\n",
        "    def build_input_nodes(self, raw_inputnodes:pd.DataFrame()) -> dict:\n",
        "        retdict = {}\n",
        "        for i in range(raw_inputnodes.shape[0]):\n",
        "            current = raw_inputnodes.iloc[i]\n",
        "            retdict[current['name'].replace(' ', '')] = {col:current[col] for col in current.index if col != 'name'}\n",
        "        return retdict\n",
        "\n",
        "    def build_index_tree(self, raw_indextree:pd.DataFrame(), raw_inputnodes:pd.DataFrame()) -> dict:\n",
        "        retdict = {}\n",
        "        for i in range(raw_indextree.shape[0]):\n",
        "            current = raw_indextree.iloc[i]\n",
        "            children = raw_indextree[raw_indextree['parent'] == current['name']]\n",
        "            node_children = raw_inputnodes[raw_inputnodes['parent'] == current['name']]\n",
        "            \n",
        "            if children.shape[0] == 0 and node_children.shape[0] == 0:\n",
        "                retdict[current['name']] = 0\n",
        "                continue\n",
        "\n",
        "            children = children['name'].tolist()+node_children['name'].tolist()\n",
        "            retdict[current['name']] = list(map(lambda x: x.replace(' ', \"\"), children)) #cleans up any mistaken spaces\n",
        "        \n",
        "        return retdict    \n",
        "    \n",
        "    def compoundrate(self, name:str, timeframe:int) -> float:\n",
        "        return self.valuedict[name]['value'] * ( (1 + self.valuedict[name]['percent']*0.01)**(timeframe/self.valuedict[name]['period']) -1 ) + self.valuedict[name]['value']\n",
        "\n",
        "    def calculaterate(self, name:str, timeframe:int) -> float:\n",
        "        ratetype = self.valuedict[name]['ratetype']\n",
        "        if ratetype == 'linear':\n",
        "            return self.linear_rate(name, timeframe)\n",
        "        if ratetype == 'constant':\n",
        "            return self.valuedict[name]['value']\n",
        "        if ratetype == 'compound':\n",
        "            return self.compoundrate(name, timeframe)\n",
        "        else:\n",
        "            return 0\n",
        "\n",
        "    def find_timeframe(self, startdate:str, enddate:str) -> int:\n",
        "        startday = sum(self.daymonth[:int(startdate[:2])]) + int(startdate[2:4])\n",
        "        endday = sum(self.daymonth[:int(enddate[:2])]) + int(enddate[2:4]) + (365*(int(enddate[4:])-int(startdate[4:])))\n",
        "        return endday-startday\n",
        "\n",
        "    def sum_all_worker(self, name:str, currentsum:list, timeframe:int):\n",
        "        if name not in self.indexdict.keys():\n",
        "            currentsum[0] += round(self.calculaterate(name, timeframe), 2)\n",
        "            return\n",
        "\n",
        "        for next in self.indexdict[name]:\n",
        "            self.sum_all_worker(next, currentsum, timeframe)\n",
        "    \n",
        "    def sum_all(self, name:str, timeframe:int) -> int:\n",
        "        currentsum = [0] # necessary to pass by reference in python\n",
        "        self.sum_all_worker(name, currentsum, timeframe)\n",
        "        return float(currentsum[0])\n",
        "\n",
        "    def linear_rate(self, name:str, timeframe:int) -> int:\n",
        "        return self.valuedict[name]['value']*(timeframe/self.valuedict[name]['period'])\n",
        "\n",
        "    def pretty_worker(self, name:str, recurdepth:int):\n",
        "        print(\"   \"*recurdepth, name,\"$\"+str(self.sum_all(name, 30)))\n",
        "        if name not in self.indexdict.keys():\n",
        "            return\n",
        "        for next in self.indexdict[name]:\n",
        "            self.pretty_worker(next, recurdepth+1)\n",
        "    \n",
        "    def pretty_print_index(self):\n",
        "        print('Nodes per Month:')\n",
        "        self.pretty_worker('root', 0) \n",
        "\n",
        "    def visualize_range(self, section:str, startdate:str, enddate:str, timeskip:int):\n",
        "        datapoints = []\n",
        "        timeframe = self.find_timeframe(startdate, enddate)\n",
        "        for t in range(timeframe):\n",
        "            datapoints.append(self.sum_all(section, t))\n",
        "        plt.figure(figsize=(10,5))\n",
        "        plt.title(f'{section} over {timeframe} days')\n",
        "        plt.plot(datapoints, label=section)\n",
        "        plt.legend()\n",
        "        plt.show()"
      ],
      "execution_count": 253,
      "outputs": []
    },
    {
      "cell_type": "code",
      "metadata": {
        "id": "xGlOP5nv3Ely"
      },
      "source": [
        "IT = IndexTree(raw_indextree, raw_inputnodes)"
      ],
      "execution_count": 254,
      "outputs": []
    },
    {
      "cell_type": "code",
      "metadata": {
        "colab": {
          "base_uri": "https://localhost:8080/"
        },
        "id": "Yhd7pzkWa3Q5",
        "outputId": "8bff6e86-3271-441a-c321-b108e1b6c632"
      },
      "source": [
        "IT.compoundrate('debt', 30)"
      ],
      "execution_count": 255,
      "outputs": [
        {
          "output_type": "execute_result",
          "data": {
            "text/plain": [
              "442.57380854331154"
            ]
          },
          "metadata": {
            "tags": []
          },
          "execution_count": 255
        }
      ]
    },
    {
      "cell_type": "code",
      "metadata": {
        "colab": {
          "base_uri": "https://localhost:8080/"
        },
        "id": "5esJDX944k9T",
        "outputId": "5d5c84cb-643c-4e70-96e5-0f6052ca0209"
      },
      "source": [
        "IT.find_timeframe('09092021', '10092021')"
      ],
      "execution_count": 256,
      "outputs": [
        {
          "output_type": "execute_result",
          "data": {
            "text/plain": [
              "31"
            ]
          },
          "metadata": {
            "tags": []
          },
          "execution_count": 256
        }
      ]
    },
    {
      "cell_type": "code",
      "metadata": {
        "colab": {
          "base_uri": "https://localhost:8080/",
          "height": 336
        },
        "id": "USrTpDx707QI",
        "outputId": "be5a3eea-0f02-444e-a6d0-cd61724fff48"
      },
      "source": [
        "IT.visualize_range('root', '09092021', '10012021', 7)"
      ],
      "execution_count": 259,
      "outputs": [
        {
          "output_type": "display_data",
          "data": {
            "image/png": "[encoded data removed]",
            "text/plain": [
              "<Figure size 720x360 with 1 Axes>"
            ]
          },
          "metadata": {
            "tags": [],
            "needs_background": "light"
          }
        }
      ]
    },
    {
      "cell_type": "code",
      "metadata": {
        "colab": {
          "base_uri": "https://localhost:8080/"
        },
        "id": "VpL1A5ZnS5Jg",
        "outputId": "66444e5a-c8ea-441c-e00c-3b673e1b859f"
      },
      "source": [
        "IT.pretty_print_index()"
      ],
      "execution_count": 260,
      "outputs": [
        {
          "output_type": "stream",
          "text": [
            "Nodes per Month:\n",
            " root $-3263.43\n",
            "    money $-2063.43\n",
            "       tuition&fees $-1606.0\n",
            "          rent $-1598.0\n",
            "          sci_fees $-8.0\n",
            "       shoes $-900.0\n",
            "       debt $442.57\n",
            "    food $-1200.0\n"
          ],
          "name": "stdout"
        }
      ]
    }
  ]
}