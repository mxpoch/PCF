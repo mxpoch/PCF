{
  "nbformat": 4,
  "nbformat_minor": 0,
  "metadata": {
    "colab": {
      "name": "PCF.ipynb",
      "provenance": [],
      "collapsed_sections": [],
      "authorship_tag": "ABX9TyPL9N3ZnygmYa6cZvyMJikT",
      "include_colab_link": true
    },
    "kernelspec": {
      "name": "python3",
      "display_name": "Python 3"
    },
    "language_info": {
      "name": "python"
    }
  },
  "cells": [
    {
      "cell_type": "markdown",
      "metadata": {
        "id": "view-in-github",
        "colab_type": "text"
      },
      "source": [
        "<a href=\"https://colab.research.google.com/github/mxpoch/PCF/blob/main/PCF.ipynb\" target=\"_parent\"><img src=\"https://colab.research.google.com/assets/colab-badge.svg\" alt=\"Open In Colab\"/></a>"
      ]
    },
    {
      "cell_type": "code",
      "metadata": {
        "id": "Kv-6UVgq23kg"
      },
      "source": [
        "# key words:\n",
        "# savings = constant\n",
        "# none = reserved for root parent"
      ],
      "execution_count": null,
      "outputs": []
    },
    {
      "cell_type": "code",
      "metadata": {
        "id": "nsncPHMU1qp4"
      },
      "source": [
        "import pandas as pd\n",
        "import math\n",
        "import matplotlib.pyplot as plt\n",
        "class CashFlow:\n",
        "    def __init__(self, gc, gsheet:str): \n",
        "        self.raw_inputnodes, self.raw_indextree = self.import_sheet(gc, gsheet)\n",
        "\n",
        "        self.indexdict = self.build_index_tree(self.raw_indextree, self.raw_inputnodes)\n",
        "        self.valuedict = self.build_input_nodes(self.raw_inputnodes)\n",
        "        self.daymonth = [31, 28, 31, 30, 31, 30, 31, 31, 30, 31, 30, 31]\n",
        "\n",
        "    def import_sheet(self, gc, gsheet:str) -> tuple:\n",
        "        wb = gc.open_by_url(gsheet)\n",
        "        read_inputnodes = wb.worksheet('InputNodes').get_all_values()\n",
        "        read_indextree = wb.worksheet('IndexTree').get_all_values()\n",
        "\n",
        "        raw_inputnodes = pd.DataFrame(read_inputnodes[1:], columns=read_inputnodes[0])\n",
        "        # gspread imports everything as string, converting value and timeframe columns to numeric\n",
        "        raw_inputnodes = raw_inputnodes.drop(columns=['value', 'period', 'percent']).join(raw_inputnodes[['value', 'period', 'percent']].apply(pd.to_numeric))\n",
        "\n",
        "        raw_indextree = pd.DataFrame(read_indextree[1:], columns=read_indextree[0])\n",
        "        return raw_inputnodes, raw_indextree\n",
        "\n",
        "    def build_input_nodes(self, raw_inputnodes:pd.DataFrame()) -> dict:\n",
        "        retdict = {}\n",
        "        for i in range(raw_inputnodes.shape[0]):\n",
        "            current = raw_inputnodes.iloc[i]\n",
        "            retdict[current['name'].replace(' ', '')] = {col:current[col] for col in current.index if col != 'name'}\n",
        "        return retdict\n",
        "\n",
        "    def build_index_tree(self, raw_indextree:pd.DataFrame(), raw_inputnodes:pd.DataFrame()) -> dict:\n",
        "        retdict = {}\n",
        "        for i in range(raw_indextree.shape[0]):\n",
        "            current = raw_indextree.iloc[i]\n",
        "            children = raw_indextree[raw_indextree['parent'] == current['name']]\n",
        "            node_children = raw_inputnodes[raw_inputnodes['parent'] == current['name']]\n",
        "            \n",
        "            if children.shape[0] == 0 and node_children.shape[0] == 0:\n",
        "                retdict[current['name']] = 0\n",
        "                continue\n",
        "\n",
        "            children = children['name'].tolist()+node_children['name'].tolist()\n",
        "            retdict[current['name']] = list(map(lambda x: x.strip(), children)) #cleans up any mistaken spaces\n",
        "        \n",
        "        return retdict    \n",
        "    \n",
        "    def compoundrate(self, name:str, timeframe:int) -> float:\n",
        "        return self.valuedict[name]['value'] * ( (1 + self.valuedict[name]['percent']*0.01)**(timeframe/self.valuedict[name]['period']) -1 ) + self.valuedict[name]['value']\n",
        "\n",
        "    def calculaterate(self, name:str, timeframe:int) -> float:\n",
        "        ratetype = self.valuedict[name]['ratetype']\n",
        "        if ratetype == 'linear':\n",
        "            return self.linear_rate(name, timeframe)\n",
        "        if ratetype == 'constant':\n",
        "            return self.valuedict[name]['value']\n",
        "        if ratetype == 'compound':\n",
        "            return self.compoundrate(name, timeframe)\n",
        "        else:\n",
        "            return 0\n",
        "\n",
        "    def find_timeframe(self, startdate:str, enddate:str) -> int:\n",
        "        startday = sum(self.daymonth[:int(startdate[:2])-1]) + int(startdate[2:4])\n",
        "        endday = sum(self.daymonth[:int(enddate[:2])-1]) + int(enddate[2:4]) + (365*(int(enddate[4:])-int(startdate[4:])))\n",
        "        return endday-startday\n",
        "\n",
        "    def find_overlap_time(self, date:str, name:str) -> int:\n",
        "        # checks for overlap with the current date\n",
        "        # maximum value\n",
        "        localframe = self.find_timeframe(self.valuedict[name]['startdate'], self.valuedict[name]['enddate'])\n",
        "        currentday = self.find_timeframe(self.valuedict[name]['startdate'], date)\n",
        "        if currentday < 0 or currentday > localframe: return -1\n",
        "        else: return currentday\n",
        "\n",
        "    def sum_all_worker(self, name:str, currentsum:list, date:str):\n",
        "        if name not in self.indexdict.keys():\n",
        "            if name == 'savings': return # calculated later\n",
        "            else: \n",
        "                timeframe = self.find_overlap_time(date, name)\n",
        "                if timeframe != -1: currentsum[0] += round(self.calculaterate(name, timeframe), 2)\n",
        "            return \n",
        "\n",
        "        if type(self.indexdict[name]) == int: return \n",
        "        for next in self.indexdict[name]:\n",
        "            self.sum_all_worker(next, currentsum, date)\n",
        "    \n",
        "    def sum_all(self, name:str, date:str) -> int:\n",
        "        currentsum = [0] # necessary to pass by reference in python\n",
        "        self.sum_all_worker(name, currentsum, date)\n",
        "        return round(float(currentsum[0]), 2)\n",
        "\n",
        "    def linear_rate(self, name:str, timeframe:int) -> int:\n",
        "        return self.valuedict[name]['value']*(timeframe/self.valuedict[name]['period'])\n",
        "\n",
        "    def pretty_worker(self, name:str, recurdepth:int):\n",
        "        if name not in self.indexdict.keys(): \n",
        "            print(\"   \"*recurdepth, name, '|',self.valuedict[name]['ratetype'])\n",
        "            return \n",
        "        print(\"   \"*recurdepth, name)\n",
        "        for next in self.indexdict[name]:\n",
        "            try:\n",
        "                self.pretty_worker(next, recurdepth+1)\n",
        "            except TypeError:\n",
        "                pass\n",
        "    \n",
        "    def displaycosts(self):\n",
        "        print('Nodes per Month:')\n",
        "        self.pretty_worker('root', 0) \n",
        "\n",
        "    def positive_floor(self, number:int) -> int:\n",
        "        if number < 0: return -1\n",
        "        else: return number\n",
        "\n",
        "    def date_increment(self, date:str, increment:int) -> str:\n",
        "        # convert whole thing into days since start, then convert back\n",
        "        # day 0 is new year's day of current year\n",
        "        currentday = sum(self.daymonth[:(int(date[:2])-1)]) + int(date[2:4])\n",
        "        currentday += increment\n",
        "\n",
        "        yeardisplacement = math.floor(currentday/365)\n",
        "        currentday = currentday % 365\n",
        "\n",
        "        year = int(date[4:]) + yeardisplacement\n",
        "        month = 1\n",
        "        day = 1\n",
        "        if currentday <= 31:\n",
        "            day = currentday\n",
        "        else:\n",
        "            # is there a better way to do this?\n",
        "            minmonths = list(filter(lambda x: x >= 0, [currentday-sum(self.daymonth[:x]) for x in range(1,13)]))\n",
        "            lmin = -1\n",
        "            for min in minmonths:\n",
        "                if min < lmin or lmin == -1:\n",
        "                    lmin = min\n",
        "                    month += 1\n",
        "                else: break \n",
        "            day = lmin\n",
        "            \n",
        "        if month < 10: month = '0'+str(month)\n",
        "        if day < 10: day = '0'+str(day)\n",
        "\n",
        "        return str(month)+str(day)+str(year)\n",
        "    \n",
        "    def generate_dates(self, startdate:str, enddate:str, timeskip:int) -> list:\n",
        "        cday = self.date_increment(startdate, -1)\n",
        "        max = int(math.floor(self.find_timeframe(cday, enddate) / timeskip))\n",
        "        for x in range(max):\n",
        "            cday = self.date_increment(cday, timeskip)\n",
        "            yield cday\n",
        "\n",
        "    def visualize_range(self, sections:list, startdate:str, enddate:str, timeskip:int):\n",
        "        datapoints = [[] for s in range(len(sections))]\n",
        "        dates = [t for t in self.generate_dates(startdate, enddate, timeskip)]\n",
        "        savings = self.valuedict['savings']['value'] \n",
        "\n",
        "\n",
        "        plt.figure(figsize=(30,10))\n",
        "        i = 0\n",
        "        for section in sections:\n",
        "            currentsavings = savings.copy()\n",
        "            for t in self.generate_dates(startdate, enddate, timeskip):\n",
        "                current = self.sum_all(section, t)\n",
        "                if current != float(0):\n",
        "                    datapoints[i].append(savings+current)\n",
        "                    currentsavings = savings+current\n",
        "                else: \n",
        "                    datapoints[i].append(currentsavings)\n",
        "            \n",
        "            plt.plot(dates, datapoints[i], label=section)\n",
        "            i += 1\n",
        "        \n",
        "        title = sections[0]\n",
        "        if len(sections) > 1: title = ' and '.join(sections)\n",
        "        plt.title(title)\n",
        "        plt.xticks(rotation=90)\n",
        "        plt.ylabel('$CAD')\n",
        "        plt.xlabel('date')\n",
        "        plt.legend()\n",
        "        plt.show()"
      ],
      "execution_count": 70,
      "outputs": []
    },
    {
      "cell_type": "code",
      "metadata": {
        "id": "7PdSXay186_a"
      },
      "source": [
        "# authenticator\n",
        "from google.colab import auth\n",
        "import gspread\n",
        "from oauth2client.client import GoogleCredentials\n",
        "auth.authenticate_user()\n",
        "gc = gspread.authorize(GoogleCredentials.get_application_default())"
      ],
      "execution_count": 71,
      "outputs": []
    },
    {
      "cell_type": "code",
      "metadata": {
        "id": "xGlOP5nv3Ely"
      },
      "source": [
        "gsheet = 'INSERT GOOGLE SHEET LINK HERE'\n",
        "CF = CashFlow(gc, gsheet)"
      ],
      "execution_count": 72,
      "outputs": []
    },
    {
      "cell_type": "code",
      "metadata": {
        "colab": {
          "base_uri": "https://localhost:8080/"
        },
        "id": "Bkx20Iy9tygD",
        "outputId": "7c7c0d3f-a4f7-45f7-c4b7-f67de7c71731"
      },
      "source": [
        "CF.indexdict"
      ],
      "execution_count": 73,
      "outputs": [
        {
          "output_type": "execute_result",
          "data": {
            "text/plain": [
              "{'education': 0,\n",
              " 'entertainment': 0,\n",
              " 'living': ['rent'],\n",
              " 'root': ['education', 'living', 'entertainment', 'savings']}"
            ]
          },
          "metadata": {
            "tags": []
          },
          "execution_count": 73
        }
      ]
    },
    {
      "cell_type": "code",
      "metadata": {
        "id": "VpL1A5ZnS5Jg",
        "colab": {
          "base_uri": "https://localhost:8080/"
        },
        "outputId": "df79ec80-e7ac-4191-a86b-0873defea55d"
      },
      "source": [
        "CF.displaycosts()"
      ],
      "execution_count": 74,
      "outputs": [
        {
          "output_type": "stream",
          "text": [
            "Nodes per Month:\n",
            " root\n",
            "    education\n",
            "    living\n",
            "       rent | linear\n",
            "    entertainment\n",
            "    savings | constant \n"
          ],
          "name": "stdout"
        }
      ]
    },
    {
      "cell_type": "code",
      "metadata": {
        "colab": {
          "base_uri": "https://localhost:8080/",
          "height": 662
        },
        "id": "ur2lMu4xzfSQ",
        "outputId": "292acb4c-192f-4cd9-c858-e79f370a4ce2"
      },
      "source": [
        "CF.visualize_range(['rent'], '01012021', '12312022', 7)"
      ],
      "execution_count": 79,
      "outputs": [
        {
          "output_type": "display_data",
          "data": {
            "image/png": "[encoded data removed]",
            "text/plain": [
              "<Figure size 2160x720 with 1 Axes>"
            ]
          },
          "metadata": {
            "tags": [],
            "needs_background": "light"
          }
        }
      ]
    },
    {
      "cell_type": "code",
      "metadata": {
        "id": "aje0lIt2x7zW"
      },
      "source": [
        ""
      ],
      "execution_count": null,
      "outputs": []
    }
  ]
}