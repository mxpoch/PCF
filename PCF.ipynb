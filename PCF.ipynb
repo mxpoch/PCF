{
  "nbformat": 4,
  "nbformat_minor": 0,
  "metadata": {
    "colab": {
      "name": "PCF.ipynb",
      "provenance": [],
      "collapsed_sections": [],
      "authorship_tag": "ABX9TyOJOgIs6JQKPqOyLQOXLbaU",
      "include_colab_link": true
    },
    "kernelspec": {
      "name": "python3",
      "display_name": "Python 3"
    },
    "language_info": {
      "name": "python"
    }
  },
  "cells": [
    {
      "cell_type": "markdown",
      "metadata": {
        "id": "view-in-github",
        "colab_type": "text"
      },
      "source": [
        "<a href=\"https://colab.research.google.com/github/mxpoch/PCF/blob/main/PCF.ipynb\" target=\"_parent\"><img src=\"https://colab.research.google.com/assets/colab-badge.svg\" alt=\"Open In Colab\"/></a>"
      ]
    },
    {
      "cell_type": "code",
      "metadata": {
        "id": "Kv-6UVgq23kg"
      },
      "source": [
        "# key words:\n",
        "# savings = constant\n",
        "# none = reserved for root parent"
      ],
      "execution_count": null,
      "outputs": []
    },
    {
      "cell_type": "code",
      "metadata": {
        "id": "V-Z15WEup4ND"
      },
      "source": [
        "# authentication\n",
        "from google.colab import auth\n",
        "auth.authenticate_user()\n",
        "import gspread\n",
        "from oauth2client.client import GoogleCredentials\n",
        "gc = gspread.authorize(GoogleCredentials.get_application_default())"
      ],
      "execution_count": 1,
      "outputs": []
    },
    {
      "cell_type": "code",
      "metadata": {
        "id": "Z9NoAsypt3oA"
      },
      "source": [
        "# importing\n",
        "import pandas as pd\n",
        "import math\n",
        "import matplotlib.pyplot as plt\n",
        "wb = gc.open_by_url('https://docs.google.com/spreadsheets/d/1X4ahQA0pLWN3dd4X64pKShYLzDhvdM3frwBqAY7FfXY/edit?usp=sharing')\n",
        "\n",
        "read_inputnodes = wb.worksheet('InputNodes').get_all_values()\n",
        "read_indextree = wb.worksheet('IndexTree').get_all_values()\n",
        "\n",
        "raw_inputnodes = pd.DataFrame(read_inputnodes[1:], columns=read_inputnodes[0])\n",
        "# gspread imports everything as string, converting value and timeframe columns to numeric\n",
        "raw_inputnodes = raw_inputnodes.drop(columns=['value', 'period', 'percent']).join(raw_inputnodes[['value', 'period', 'percent']].apply(pd.to_numeric))\n",
        "\n",
        "raw_indextree = pd.DataFrame(read_indextree[1:], columns=read_indextree[0])"
      ],
      "execution_count": 194,
      "outputs": []
    },
    {
      "cell_type": "code",
      "metadata": {
        "colab": {
          "base_uri": "https://localhost:8080/",
          "height": 235
        },
        "id": "TUbUnJQwBimK",
        "outputId": "70d8e347-8c7d-47da-f730-e889c5799d18"
      },
      "source": [
        "raw_inputnodes"
      ],
      "execution_count": 195,
      "outputs": [
        {
          "output_type": "execute_result",
          "data": {
            "text/html": [
              "<div>\n",
              "<style scoped>\n",
              "    .dataframe tbody tr th:only-of-type {\n",
              "        vertical-align: middle;\n",
              "    }\n",
              "\n",
              "    .dataframe tbody tr th {\n",
              "        vertical-align: top;\n",
              "    }\n",
              "\n",
              "    .dataframe thead th {\n",
              "        text-align: right;\n",
              "    }\n",
              "</style>\n",
              "<table border=\"1\" class=\"dataframe\">\n",
              "  <thead>\n",
              "    <tr style=\"text-align: right;\">\n",
              "      <th></th>\n",
              "      <th>name</th>\n",
              "      <th>startdate</th>\n",
              "      <th>enddate</th>\n",
              "      <th>parent</th>\n",
              "      <th>ratetype</th>\n",
              "      <th>value</th>\n",
              "      <th>period</th>\n",
              "      <th>percent</th>\n",
              "    </tr>\n",
              "  </thead>\n",
              "  <tbody>\n",
              "    <tr>\n",
              "      <th>0</th>\n",
              "      <td>rent</td>\n",
              "      <td>01012021</td>\n",
              "      <td>01012022</td>\n",
              "      <td>tuition&amp;fees</td>\n",
              "      <td>linear</td>\n",
              "      <td>-6392</td>\n",
              "      <td>120</td>\n",
              "      <td>0</td>\n",
              "    </tr>\n",
              "    <tr>\n",
              "      <th>1</th>\n",
              "      <td>sci_fees</td>\n",
              "      <td>01012021</td>\n",
              "      <td>01012022</td>\n",
              "      <td>tuition&amp;fees</td>\n",
              "      <td>linear</td>\n",
              "      <td>-8</td>\n",
              "      <td>30</td>\n",
              "      <td>0</td>\n",
              "    </tr>\n",
              "    <tr>\n",
              "      <th>2</th>\n",
              "      <td>food</td>\n",
              "      <td>01012021</td>\n",
              "      <td>01012022</td>\n",
              "      <td>root</td>\n",
              "      <td>linear</td>\n",
              "      <td>-40</td>\n",
              "      <td>1</td>\n",
              "      <td>0</td>\n",
              "    </tr>\n",
              "    <tr>\n",
              "      <th>3</th>\n",
              "      <td>shoes</td>\n",
              "      <td>01012021</td>\n",
              "      <td>01012022</td>\n",
              "      <td>money</td>\n",
              "      <td>constant</td>\n",
              "      <td>-900</td>\n",
              "      <td>1</td>\n",
              "      <td>0</td>\n",
              "    </tr>\n",
              "    <tr>\n",
              "      <th>4</th>\n",
              "      <td>debt</td>\n",
              "      <td>01012021</td>\n",
              "      <td>01012022</td>\n",
              "      <td>money</td>\n",
              "      <td>compound</td>\n",
              "      <td>-400</td>\n",
              "      <td>5</td>\n",
              "      <td>70</td>\n",
              "    </tr>\n",
              "    <tr>\n",
              "      <th>5</th>\n",
              "      <td>job</td>\n",
              "      <td>1012021</td>\n",
              "      <td>1012022</td>\n",
              "      <td>money</td>\n",
              "      <td>linear</td>\n",
              "      <td>15</td>\n",
              "      <td>1</td>\n",
              "      <td>0</td>\n",
              "    </tr>\n",
              "  </tbody>\n",
              "</table>\n",
              "</div>"
            ],
            "text/plain": [
              "       name startdate   enddate        parent  ratetype  value  period  percent\n",
              "0      rent  01012021  01012022  tuition&fees    linear  -6392     120        0\n",
              "1  sci_fees  01012021  01012022  tuition&fees    linear     -8      30        0\n",
              "2      food  01012021  01012022          root    linear    -40       1        0\n",
              "3     shoes  01012021  01012022         money  constant   -900       1        0\n",
              "4      debt  01012021  01012022         money  compound   -400       5       70\n",
              "5      job    1012021   1012022         money    linear     15       1        0"
            ]
          },
          "metadata": {
            "tags": []
          },
          "execution_count": 195
        }
      ]
    },
    {
      "cell_type": "code",
      "metadata": {
        "id": "nsncPHMU1qp4"
      },
      "source": [
        "class IndexTree:\n",
        "    def __init__(self, raw_indextree:pd.DataFrame(), raw_inputnodes:pd.DataFrame()): \n",
        "        # print(raw_indextree)\n",
        "        self.indexdict = self.build_index_tree(raw_indextree, raw_inputnodes)\n",
        "        self.valuedict = self.build_input_nodes(raw_inputnodes)\n",
        "        self.daymonth = [31, 28, 31, 30, 31, 30, 31, 31, 30, 31, 30, 31]\n",
        "\n",
        "    def build_input_nodes(self, raw_inputnodes:pd.DataFrame()) -> dict:\n",
        "        retdict = {}\n",
        "        for i in range(raw_inputnodes.shape[0]):\n",
        "            current = raw_inputnodes.iloc[i]\n",
        "            retdict[current['name'].replace(' ', '')] = {col:current[col] for col in current.index if col != 'name'}\n",
        "        return retdict\n",
        "\n",
        "    def build_index_tree(self, raw_indextree:pd.DataFrame(), raw_inputnodes:pd.DataFrame()) -> dict:\n",
        "        retdict = {}\n",
        "        for i in range(raw_indextree.shape[0]):\n",
        "            current = raw_indextree.iloc[i]\n",
        "            children = raw_indextree[raw_indextree['parent'] == current['name']]\n",
        "            node_children = raw_inputnodes[raw_inputnodes['parent'] == current['name']]\n",
        "            \n",
        "            if children.shape[0] == 0 and node_children.shape[0] == 0:\n",
        "                retdict[current['name']] = 0\n",
        "                continue\n",
        "\n",
        "            children = children['name'].tolist()+node_children['name'].tolist()\n",
        "            retdict[current['name']] = list(map(lambda x: x.strip(), children)) #cleans up any mistaken spaces\n",
        "        \n",
        "        return retdict    \n",
        "    \n",
        "    def compoundrate(self, name:str, timeframe:int) -> float:\n",
        "        return self.valuedict[name]['value'] * ( (1 + self.valuedict[name]['percent']*0.01)**(timeframe/self.valuedict[name]['period']) -1 ) + self.valuedict[name]['value']\n",
        "\n",
        "    def calculaterate(self, name:str, timeframe:int) -> float:\n",
        "        ratetype = self.valuedict[name]['ratetype']\n",
        "        if ratetype == 'linear':\n",
        "            return self.linear_rate(name, timeframe)\n",
        "        if ratetype == 'constant':\n",
        "            return self.valuedict[name]['value']\n",
        "        if ratetype == 'compound':\n",
        "            return self.compoundrate(name, timeframe)\n",
        "        else:\n",
        "            return 0\n",
        "\n",
        "    def find_timeframe(self, startdate:str, enddate:str) -> int:\n",
        "        startday = sum(self.daymonth[:int(startdate[:2])-1]) + int(startdate[2:4])\n",
        "        endday = sum(self.daymonth[:int(enddate[:2])-1]) + int(enddate[2:4]) + (365*(int(enddate[4:])-int(startdate[4:])))\n",
        "        return endday-startday\n",
        "\n",
        "    def find_overlap_time(self, date:str, name:str) -> int:\n",
        "        # checks for overlap with the current date\n",
        "        # maximum value\n",
        "        localframe = self.find_timeframe(self.valuedict[name]['startdate'], self.valuedict[name]['enddate'])\n",
        "        currentday = self.find_timeframe(self.valuedict[name]['startdate'], date)\n",
        "        if currentday < 0 or currentday > localframe: return -1\n",
        "        else: return currentday\n",
        "\n",
        "    def sum_all_worker(self, name:str, currentsum:list, date:str):\n",
        "        if name not in self.indexdict.keys():\n",
        "            timeframe = self.find_overlap_time(date, name)\n",
        "            if timeframe != -1: currentsum[0] += round(self.calculaterate(name, timeframe), 2)\n",
        "            return \n",
        "\n",
        "        for next in self.indexdict[name]:\n",
        "            self.sum_all_worker(next, currentsum, date)\n",
        "    \n",
        "    def sum_all(self, name:str, date:str) -> int:\n",
        "        currentsum = [0] # necessary to pass by reference in python\n",
        "        self.sum_all_worker(name, currentsum, date)\n",
        "        return round(float(currentsum[0]), 2)\n",
        "\n",
        "    def linear_rate(self, name:str, timeframe:int) -> int:\n",
        "        return self.valuedict[name]['value']*(timeframe/self.valuedict[name]['period'])\n",
        "\n",
        "    def pretty_worker(self, name:str, recurdepth:int):\n",
        "        if name not in self.indexdict.keys(): \n",
        "            print(\"   \"*recurdepth, name, '|',self.valuedict[name]['ratetype'])\n",
        "            return \n",
        "        print(\"   \"*recurdepth, name)\n",
        "        for next in self.indexdict[name]:\n",
        "            self.pretty_worker(next, recurdepth+1)\n",
        "    \n",
        "    def pretty_print_index(self):\n",
        "        print('Nodes per Month:')\n",
        "        self.pretty_worker('root', 0) \n",
        "\n",
        "    def positive_floor(self, number:int) -> int:\n",
        "        if number < 0: return -1\n",
        "        else: return number\n",
        "\n",
        "    def date_increment(self, date:str, increment:int) -> str:\n",
        "        # convert whole thing into days since start, then convert back\n",
        "        # day 0 is new year's day of current year\n",
        "        currentday = sum(self.daymonth[:(int(date[:2])-1)]) + int(date[2:4])\n",
        "        currentday += increment\n",
        "\n",
        "        yeardisplacement = math.floor(currentday/365)\n",
        "        currentday = currentday % 365\n",
        "\n",
        "        year = int(date[4:]) + yeardisplacement\n",
        "        month = 1\n",
        "        day = 1\n",
        "        if currentday <= 31:\n",
        "            day = currentday\n",
        "        else:\n",
        "            # is there a better way to do this?\n",
        "            minmonths = list(filter(lambda x: x >= 0, [currentday-sum(self.daymonth[:x]) for x in range(1,13)]))\n",
        "            lmin = -1\n",
        "            for min in minmonths:\n",
        "                if min < lmin or lmin == -1:\n",
        "                    lmin = min\n",
        "                    month += 1\n",
        "                else: break \n",
        "            day = lmin\n",
        "            \n",
        "        if month < 10: month = '0'+str(month)\n",
        "        if day < 10: day = '0'+str(day)\n",
        "\n",
        "        return str(month)+str(day)+str(year)\n",
        "    \n",
        "    def generate_dates(self, startdate:str, enddate:str) -> list:\n",
        "        cday = self.date_increment(startdate, -1)\n",
        "        max = self.find_timeframe(cday, enddate)\n",
        "        for x in range(max):\n",
        "            cday = self.date_increment(cday, 1)\n",
        "            yield cday\n",
        "\n",
        "    def visualize_range(self, sections:list, startdate:str, enddate:str, timeskip:int):\n",
        "        datapoints = [[] for s in range(len(sections))]\n",
        "        dates = [t for t in self.generate_dates(startdate, enddate)]\n",
        "        \n",
        "        plt.figure(figsize=(10,5))\n",
        "        i = 0\n",
        "        for section in sections:\n",
        "            for t in self.generate_dates(startdate, enddate):\n",
        "                datapoints[i].append(self.sum_all(section, t))\n",
        "            plt.plot(dates, datapoints[i], label=section)\n",
        "            i += 1\n",
        "        \n",
        "        title = sections[0]\n",
        "        if len(sections) > 1: title = ' and '.join(sections)\n",
        "        plt.title(title)\n",
        "        plt.xticks(rotation=45)\n",
        "        plt.legend()\n",
        "        plt.show()"
      ],
      "execution_count": 235,
      "outputs": []
    },
    {
      "cell_type": "code",
      "metadata": {
        "id": "xGlOP5nv3Ely"
      },
      "source": [
        "IT = IndexTree(raw_indextree, raw_inputnodes)"
      ],
      "execution_count": 236,
      "outputs": []
    },
    {
      "cell_type": "code",
      "metadata": {
        "colab": {
          "base_uri": "https://localhost:8080/",
          "height": 369
        },
        "id": "ur2lMu4xzfSQ",
        "outputId": "f9b01ee5-c168-45df-f932-6d8ae40a865e"
      },
      "source": [
        "IT.visualize_range(['root', 'tuition&fees'], '01012021', '02012021', 1)"
      ],
      "execution_count": 239,
      "outputs": [
        {
          "output_type": "display_data",
          "data": {
            "image/png": "[encoded data removed]",
            "text/plain": [
              "<Figure size 720x360 with 1 Axes>"
            ]
          },
          "metadata": {
            "tags": [],
            "needs_background": "light"
          }
        }
      ]
    },
    {
      "cell_type": "code",
      "metadata": {
        "colab": {
          "base_uri": "https://localhost:8080/"
        },
        "id": "VpL1A5ZnS5Jg",
        "outputId": "080d3e43-3ce9-4fac-84dc-0fa592fd432e"
      },
      "source": [
        "IT.pretty_print_index()"
      ],
      "execution_count": 240,
      "outputs": [
        {
          "output_type": "stream",
          "text": [
            "Nodes per Month:\n",
            " root\n",
            "    money\n",
            "       tuition&fees\n",
            "          rent | linear\n",
            "          sci_fees | linear\n",
            "       shoes | constant\n",
            "       debt | compound\n",
            "       job | linear\n",
            "    food | linear\n"
          ],
          "name": "stdout"
        }
      ]
    },
    {
      "cell_type": "code",
      "metadata": {
        "id": "4w2EQMqW2Pj3"
      },
      "source": [
        ""
      ],
      "execution_count": null,
      "outputs": []
    }
  ]
}