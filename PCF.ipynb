{
  "nbformat": 4,
  "nbformat_minor": 0,
  "metadata": {
    "colab": {
      "name": "PCF.ipynb",
      "provenance": [],
      "collapsed_sections": [],
      "authorship_tag": "ABX9TyMIwizcE1JE/4RFfTOjeHAF",
      "include_colab_link": true
    },
    "kernelspec": {
      "name": "python3",
      "display_name": "Python 3"
    },
    "language_info": {
      "name": "python"
    }
  },
  "cells": [
    {
      "cell_type": "markdown",
      "metadata": {
        "id": "view-in-github",
        "colab_type": "text"
      },
      "source": [
        "<a href=\"https://colab.research.google.com/github/mxpoch/PCF/blob/main/PCF.ipynb\" target=\"_parent\"><img src=\"https://colab.research.google.com/assets/colab-badge.svg\" alt=\"Open In Colab\"/></a>"
      ]
    },
    {
      "cell_type": "code",
      "metadata": {
        "id": "Kv-6UVgq23kg"
      },
      "source": [
        "# key words:\n",
        "# savings = constant\n",
        "# none = reserved for root parent"
      ],
      "execution_count": null,
      "outputs": []
    },
    {
      "cell_type": "code",
      "metadata": {
        "id": "V-Z15WEup4ND"
      },
      "source": [
        "# authentication\n",
        "from google.colab import auth\n",
        "auth.authenticate_user()\n",
        "import gspread\n",
        "from oauth2client.client import GoogleCredentials\n",
        "gc = gspread.authorize(GoogleCredentials.get_application_default())"
      ],
      "execution_count": 82,
      "outputs": []
    },
    {
      "cell_type": "code",
      "metadata": {
        "id": "Z9NoAsypt3oA"
      },
      "source": [
        "# importing\n",
        "import pandas as pd\n",
        "import math\n",
        "import matplotlib.pyplot as plt\n",
        "wb = gc.open_by_url('https://docs.google.com/spreadsheets/d/1X4ahQA0pLWN3dd4X64pKShYLzDhvdM3frwBqAY7FfXY/edit?usp=sharing')\n",
        "\n",
        "read_inputnodes = wb.worksheet('InputNodes').get_all_values()\n",
        "read_indextree = wb.worksheet('IndexTree').get_all_values()\n",
        "\n",
        "raw_inputnodes = pd.DataFrame(read_inputnodes[1:], columns=read_inputnodes[0])\n",
        "# gspread imports everything as string, converting value and timeframe columns to numeric\n",
        "raw_inputnodes = raw_inputnodes.drop(columns=['value', 'period', 'percent']).join(raw_inputnodes[['value', 'period', 'percent']].apply(pd.to_numeric))\n",
        "\n",
        "raw_indextree = pd.DataFrame(read_indextree[1:], columns=read_indextree[0])"
      ],
      "execution_count": 83,
      "outputs": []
    },
    {
      "cell_type": "code",
      "metadata": {
        "colab": {
          "base_uri": "https://localhost:8080/",
          "height": 204
        },
        "id": "TUbUnJQwBimK",
        "outputId": "ad152aad-31e3-4848-9d2c-68b107cac5c2"
      },
      "source": [
        "raw_inputnodes"
      ],
      "execution_count": 84,
      "outputs": [
        {
          "output_type": "execute_result",
          "data": {
            "text/html": [
              "<div>\n",
              "<style scoped>\n",
              "    .dataframe tbody tr th:only-of-type {\n",
              "        vertical-align: middle;\n",
              "    }\n",
              "\n",
              "    .dataframe tbody tr th {\n",
              "        vertical-align: top;\n",
              "    }\n",
              "\n",
              "    .dataframe thead th {\n",
              "        text-align: right;\n",
              "    }\n",
              "</style>\n",
              "<table border=\"1\" class=\"dataframe\">\n",
              "  <thead>\n",
              "    <tr style=\"text-align: right;\">\n",
              "      <th></th>\n",
              "      <th>name</th>\n",
              "      <th>startdate</th>\n",
              "      <th>enddate</th>\n",
              "      <th>parent</th>\n",
              "      <th>ratetype</th>\n",
              "      <th>value</th>\n",
              "      <th>period</th>\n",
              "      <th>percent</th>\n",
              "    </tr>\n",
              "  </thead>\n",
              "  <tbody>\n",
              "    <tr>\n",
              "      <th>0</th>\n",
              "      <td>rent</td>\n",
              "      <td>09012021</td>\n",
              "      <td>01012021</td>\n",
              "      <td>tuition&amp;fees</td>\n",
              "      <td>linear</td>\n",
              "      <td>-6392</td>\n",
              "      <td>120</td>\n",
              "      <td>0.0</td>\n",
              "    </tr>\n",
              "    <tr>\n",
              "      <th>1</th>\n",
              "      <td>sci_fees</td>\n",
              "      <td>09012021</td>\n",
              "      <td>01012021</td>\n",
              "      <td>tuition&amp;fees</td>\n",
              "      <td>linear</td>\n",
              "      <td>-8</td>\n",
              "      <td>30</td>\n",
              "      <td>0.0</td>\n",
              "    </tr>\n",
              "    <tr>\n",
              "      <th>2</th>\n",
              "      <td>food</td>\n",
              "      <td>09012021</td>\n",
              "      <td>01012021</td>\n",
              "      <td>root</td>\n",
              "      <td>linear</td>\n",
              "      <td>-40</td>\n",
              "      <td>1</td>\n",
              "      <td>0.0</td>\n",
              "    </tr>\n",
              "    <tr>\n",
              "      <th>3</th>\n",
              "      <td>shoes</td>\n",
              "      <td>09012021</td>\n",
              "      <td>01012021</td>\n",
              "      <td>money</td>\n",
              "      <td>constant</td>\n",
              "      <td>-900</td>\n",
              "      <td>1</td>\n",
              "      <td>0.0</td>\n",
              "    </tr>\n",
              "    <tr>\n",
              "      <th>4</th>\n",
              "      <td>debt</td>\n",
              "      <td>09012021</td>\n",
              "      <td>01012021</td>\n",
              "      <td>money</td>\n",
              "      <td>compound</td>\n",
              "      <td>400</td>\n",
              "      <td>5</td>\n",
              "      <td>1.7</td>\n",
              "    </tr>\n",
              "  </tbody>\n",
              "</table>\n",
              "</div>"
            ],
            "text/plain": [
              "       name startdate   enddate        parent  ratetype  value  period  percent\n",
              "0     rent   09012021  01012021  tuition&fees    linear  -6392     120      0.0\n",
              "1  sci_fees  09012021  01012021  tuition&fees    linear     -8      30      0.0\n",
              "2      food  09012021  01012021          root    linear    -40       1      0.0\n",
              "3     shoes  09012021  01012021         money  constant   -900       1      0.0\n",
              "4      debt  09012021  01012021         money  compound    400       5      1.7"
            ]
          },
          "metadata": {
            "tags": []
          },
          "execution_count": 84
        }
      ]
    },
    {
      "cell_type": "code",
      "metadata": {
        "colab": {
          "base_uri": "https://localhost:8080/"
        },
        "id": "n-p9lVnLdpqs",
        "outputId": "59168f1b-be12-4175-b390-b7d8191ef945"
      },
      "source": [
        "10 % 10"
      ],
      "execution_count": 143,
      "outputs": [
        {
          "output_type": "execute_result",
          "data": {
            "text/plain": [
              "0"
            ]
          },
          "metadata": {
            "tags": []
          },
          "execution_count": 143
        }
      ]
    },
    {
      "cell_type": "code",
      "metadata": {
        "colab": {
          "base_uri": "https://localhost:8080/"
        },
        "id": "xS2ZGhykf19m",
        "outputId": "2dfad7db-025c-4a94-fec0-aa12991e8604"
      },
      "source": [
        "A = [1,2,3]\n",
        "A[:1]"
      ],
      "execution_count": 154,
      "outputs": [
        {
          "output_type": "execute_result",
          "data": {
            "text/plain": [
              "[1]"
            ]
          },
          "metadata": {
            "tags": []
          },
          "execution_count": 154
        }
      ]
    },
    {
      "cell_type": "code",
      "metadata": {
        "id": "nsncPHMU1qp4"
      },
      "source": [
        "import datetime\n",
        "class IndexTree:\n",
        "    def __init__(self, raw_indextree:pd.DataFrame(), raw_inputnodes:pd.DataFrame()): \n",
        "        # print(raw_indextree)\n",
        "        self.indexdict = self.build_index_tree(raw_indextree, raw_inputnodes)\n",
        "        self.valuedict = self.build_input_nodes(raw_inputnodes)\n",
        "        self.daymonth = [31, 28, 31, 30, 31, 30, 31, 31, 30, 31, 30, 31]\n",
        "\n",
        "    def build_input_nodes(self, raw_inputnodes:pd.DataFrame()) -> dict:\n",
        "        retdict = {}\n",
        "        for i in range(raw_inputnodes.shape[0]):\n",
        "            current = raw_inputnodes.iloc[i]\n",
        "            retdict[current['name'].replace(' ', '')] = {col:current[col] for col in current.index if col != 'name'}\n",
        "        return retdict\n",
        "\n",
        "    def build_index_tree(self, raw_indextree:pd.DataFrame(), raw_inputnodes:pd.DataFrame()) -> dict:\n",
        "        retdict = {}\n",
        "        for i in range(raw_indextree.shape[0]):\n",
        "            current = raw_indextree.iloc[i]\n",
        "            children = raw_indextree[raw_indextree['parent'] == current['name']]\n",
        "            node_children = raw_inputnodes[raw_inputnodes['parent'] == current['name']]\n",
        "            \n",
        "            if children.shape[0] == 0 and node_children.shape[0] == 0:\n",
        "                retdict[current['name']] = 0\n",
        "                continue\n",
        "\n",
        "            children = children['name'].tolist()+node_children['name'].tolist()\n",
        "            retdict[current['name']] = list(map(lambda x: x.replace(' ', \"\"), children)) #cleans up any mistaken spaces\n",
        "        \n",
        "        return retdict    \n",
        "    \n",
        "    def compoundrate(self, name:str, timeframe:int) -> float:\n",
        "        return self.valuedict[name]['value'] * ( (1 + self.valuedict[name]['percent']*0.01)**(timeframe/self.valuedict[name]['period']) -1 ) + self.valuedict[name]['value']\n",
        "\n",
        "    def calculaterate(self, name:str, timeframe:int) -> float:\n",
        "        ratetype = self.valuedict[name]['ratetype']\n",
        "        if ratetype == 'linear':\n",
        "            return self.linear_rate(name, timeframe)\n",
        "        if ratetype == 'constant':\n",
        "            return self.valuedict[name]['value']\n",
        "        if ratetype == 'compound':\n",
        "            return self.compoundrate(name, timeframe)\n",
        "        else:\n",
        "            return 0\n",
        "\n",
        "    def find_timeframe(self, startdate:str, enddate:str) -> int:\n",
        "        startday = sum(self.daymonth[:int(startdate[:2])]) + int(startdate[2:4])\n",
        "        endday = sum(self.daymonth[:int(enddate[:2])]) + int(enddate[2:4]) + (365*(int(enddate[4:])-int(startdate[4:])))\n",
        "        return endday-startday\n",
        "\n",
        "    def find_overlap_time(date:str, name:str) -> int:\n",
        "        # checks for overlap with the current date\n",
        "        # maximum value\n",
        "        localframe = self.find_timeframe(self.valuedict[name][startdate], self.valuedict[name][enddate])\n",
        "        currentday = self.find_timeframe(self.valuedict[name][startdate], date)\n",
        "        if currentday < 0 or currentday > localframe: return -1\n",
        "        else: return currentday\n",
        "\n",
        "    def sum_all_worker(self, name:str, currentsum:list, date:str):\n",
        "        if name not in self.indexdict.keys():\n",
        "            timeframe = self.find_overlap_time(date, name)\n",
        "            if timeframe != -1: currentsum[0] += round(self.calculaterate(name, timeframe), 2)\n",
        "\n",
        "        for next in self.indexdict[name]:\n",
        "            self.sum_all_worker(next, currentsum)\n",
        "    \n",
        "    def sum_all(self, name:str, date:str) -> int:\n",
        "        currentsum = [0] # necessary to pass by reference in python\n",
        "        self.sum_all_worker(name, currentsum, date)\n",
        "        return float(currentsum[0])\n",
        "\n",
        "    def linear_rate(self, name:str, timeframe:int) -> int:\n",
        "        return self.valuedict[name]['value']*(timeframe/self.valuedict[name]['period'])\n",
        "\n",
        "    def pretty_worker(self, name:str, recurdepth:int):\n",
        "        if name not in self.indexdict.keys(): \n",
        "            print(\"   \"*recurdepth, name, '|',self.valuedict[name]['ratetype'])\n",
        "            return \n",
        "        print(\"   \"*recurdepth, name)\n",
        "        for next in self.indexdict[name]:\n",
        "            self.pretty_worker(next, recurdepth+1)\n",
        "    \n",
        "    def pretty_print_index(self):\n",
        "        print('Nodes per Month:')\n",
        "        self.pretty_worker('root', 0) \n",
        "\n",
        "    def positive_floor(self, number:int) -> int:\n",
        "        if number < 0: return 0\n",
        "        else: return number\n",
        "\n",
        "    def date_increment(self, date:str, increment:int) -> str:\n",
        "        # convert whole thing into days since start, then convert back\n",
        "        # day 0 is new year's day of current year\n",
        "        currentday = sum(self.daymonth[:(int(date[:2])-1)]) + int(date[2:4])\n",
        "        currentday += increment\n",
        "        \n",
        "        yeardisplacement = math.floor(currentday/365)\n",
        "        currentday = currentday % 365\n",
        "\n",
        "        year = int(date[4:]) + yeardisplacement\n",
        "        month = 0\n",
        "        day = 0\n",
        "        if currentday < 31:\n",
        "            month = 1\n",
        "            day = currentday\n",
        "        else:\n",
        "            # is there a better way to do this?\n",
        "            day = min(list(filter(lambda x: x != 0, [self.positive_floor(currentday-sum(self.daymonth[:x])) for x in range(1,13)])))\n",
        "            month = [self.positive_floor(currentday-sum(self.daymonth[:x])) for x in range(1,13)].index(day)+1 \n",
        "            \n",
        "            \n",
        "        if month < 10: month = '0'+str(month)\n",
        "        if day < 10: day = '0'+str(day)\n",
        "\n",
        "        return str(month)+str(day)+str(year)\n",
        "    \n",
        "    def visualize_range(self, section:str, startdate:str, enddate:str, timeskip:int):\n",
        "        datapoints = []\n",
        "        dates = []\n",
        "        timeframe = self.find_timeframe(startdate, enddate)\n",
        "        for t in range(timeframe): \n",
        "            datapoints.append(self.sum_all(section, t))\n",
        "        plt.figure(figsize=(10,5))\n",
        "        plt.title(f'{section} over {timeframe} days')\n",
        "        plt.plot(datapoints, label=section)\n",
        "        plt.legend()\n",
        "        plt.show()"
      ],
      "execution_count": 225,
      "outputs": []
    },
    {
      "cell_type": "code",
      "metadata": {
        "id": "xGlOP5nv3Ely"
      },
      "source": [
        "IT = IndexTree(raw_indextree, raw_inputnodes)"
      ],
      "execution_count": 223,
      "outputs": []
    },
    {
      "cell_type": "code",
      "metadata": {
        "colab": {
          "base_uri": "https://localhost:8080/",
          "height": 36
        },
        "id": "iowo8kV2FJBF",
        "outputId": "da696c4d-aab1-4fff-f494-9285f53fc06a"
      },
      "source": [
        "IT.date_increment('01012021', 31)"
      ],
      "execution_count": 226,
      "outputs": [
        {
          "output_type": "execute_result",
          "data": {
            "application/vnd.google.colaboratory.intrinsic+json": {
              "type": "string"
            },
            "text/plain": [
              "'02012021'"
            ]
          },
          "metadata": {
            "tags": []
          },
          "execution_count": 226
        }
      ]
    },
    {
      "cell_type": "code",
      "metadata": {
        "colab": {
          "base_uri": "https://localhost:8080/"
        },
        "id": "VpL1A5ZnS5Jg",
        "outputId": "6ce3c261-dfe2-4b39-ca63-26f00ce91241"
      },
      "source": [
        "IT.pretty_print_index()"
      ],
      "execution_count": 175,
      "outputs": [
        {
          "output_type": "stream",
          "text": [
            "Nodes per Month:\n",
            " root\n",
            "    money\n",
            "       tuition&fees\n",
            "          rent | linear\n",
            "          sci_fees | linear\n",
            "       shoes | constant\n",
            "       debt | compound\n",
            "    food | linear\n"
          ],
          "name": "stdout"
        }
      ]
    },
    {
      "cell_type": "code",
      "metadata": {
        "colab": {
          "base_uri": "https://localhost:8080/",
          "height": 316
        },
        "id": "USrTpDx707QI",
        "outputId": "ebdb5abf-8d9c-42e2-a10e-afecaeadce65"
      },
      "source": [
        "IT.visualize_range('root', '09092021', '10012021', 7)"
      ],
      "execution_count": 47,
      "outputs": [
        {
          "output_type": "error",
          "ename": "TypeError",
          "evalue": "ignored",
          "traceback": [
            "\u001b[0;31m---------------------------------------------------------------------------\u001b[0m",
            "\u001b[0;31mTypeError\u001b[0m                                 Traceback (most recent call last)",
            "\u001b[0;32m<ipython-input-47-1b245ad5f9da>\u001b[0m in \u001b[0;36m<module>\u001b[0;34m()\u001b[0m\n\u001b[0;32m----> 1\u001b[0;31m \u001b[0mIT\u001b[0m\u001b[0;34m.\u001b[0m\u001b[0mvisualize_range\u001b[0m\u001b[0;34m(\u001b[0m\u001b[0;34m'root'\u001b[0m\u001b[0;34m,\u001b[0m \u001b[0;34m'09092021'\u001b[0m\u001b[0;34m,\u001b[0m \u001b[0;34m'10012021'\u001b[0m\u001b[0;34m,\u001b[0m \u001b[0;36m7\u001b[0m\u001b[0;34m)\u001b[0m\u001b[0;34m\u001b[0m\u001b[0;34m\u001b[0m\u001b[0m\n\u001b[0m",
            "\u001b[0;32m<ipython-input-43-2e91b9e22d5b>\u001b[0m in \u001b[0;36mvisualize_range\u001b[0;34m(self, section, startdate, enddate, timeskip)\u001b[0m\n\u001b[1;32m     87\u001b[0m         \u001b[0mdatapoints\u001b[0m \u001b[0;34m=\u001b[0m \u001b[0;34m[\u001b[0m\u001b[0;34m]\u001b[0m\u001b[0;34m\u001b[0m\u001b[0;34m\u001b[0m\u001b[0m\n\u001b[1;32m     88\u001b[0m         \u001b[0mtimeframe\u001b[0m \u001b[0;34m=\u001b[0m \u001b[0mself\u001b[0m\u001b[0;34m.\u001b[0m\u001b[0mfind_timeframe\u001b[0m\u001b[0;34m(\u001b[0m\u001b[0mstartdate\u001b[0m\u001b[0;34m,\u001b[0m \u001b[0menddate\u001b[0m\u001b[0;34m)\u001b[0m\u001b[0;34m\u001b[0m\u001b[0;34m\u001b[0m\u001b[0m\n\u001b[0;32m---> 89\u001b[0;31m         \u001b[0;32mfor\u001b[0m \u001b[0mt\u001b[0m \u001b[0;32min\u001b[0m \u001b[0mrange\u001b[0m\u001b[0;34m(\u001b[0m\u001b[0mtimeframe\u001b[0m\u001b[0;34m)\u001b[0m\u001b[0;34m:\u001b[0m \u001b[0mdatapoints\u001b[0m\u001b[0;34m.\u001b[0m\u001b[0mappend\u001b[0m\u001b[0;34m(\u001b[0m\u001b[0mself\u001b[0m\u001b[0;34m.\u001b[0m\u001b[0msum_all\u001b[0m\u001b[0;34m(\u001b[0m\u001b[0msection\u001b[0m\u001b[0;34m,\u001b[0m \u001b[0mt\u001b[0m\u001b[0;34m)\u001b[0m\u001b[0;34m)\u001b[0m\u001b[0;34m\u001b[0m\u001b[0;34m\u001b[0m\u001b[0m\n\u001b[0m\u001b[1;32m     90\u001b[0m         \u001b[0mplt\u001b[0m\u001b[0;34m.\u001b[0m\u001b[0mfigure\u001b[0m\u001b[0;34m(\u001b[0m\u001b[0mfigsize\u001b[0m\u001b[0;34m=\u001b[0m\u001b[0;34m(\u001b[0m\u001b[0;36m10\u001b[0m\u001b[0;34m,\u001b[0m\u001b[0;36m5\u001b[0m\u001b[0;34m)\u001b[0m\u001b[0;34m)\u001b[0m\u001b[0;34m\u001b[0m\u001b[0;34m\u001b[0m\u001b[0m\n\u001b[1;32m     91\u001b[0m         \u001b[0mplt\u001b[0m\u001b[0;34m.\u001b[0m\u001b[0mtitle\u001b[0m\u001b[0;34m(\u001b[0m\u001b[0;34mf'{section} over {timeframe} days'\u001b[0m\u001b[0;34m)\u001b[0m\u001b[0;34m\u001b[0m\u001b[0;34m\u001b[0m\u001b[0m\n",
            "\u001b[0;32m<ipython-input-43-2e91b9e22d5b>\u001b[0m in \u001b[0;36msum_all\u001b[0;34m(self, name, date)\u001b[0m\n\u001b[1;32m     67\u001b[0m     \u001b[0;32mdef\u001b[0m \u001b[0msum_all\u001b[0m\u001b[0;34m(\u001b[0m\u001b[0mself\u001b[0m\u001b[0;34m,\u001b[0m \u001b[0mname\u001b[0m\u001b[0;34m:\u001b[0m\u001b[0mstr\u001b[0m\u001b[0;34m,\u001b[0m \u001b[0mdate\u001b[0m\u001b[0;34m:\u001b[0m\u001b[0mstr\u001b[0m\u001b[0;34m)\u001b[0m \u001b[0;34m->\u001b[0m \u001b[0mint\u001b[0m\u001b[0;34m:\u001b[0m\u001b[0;34m\u001b[0m\u001b[0;34m\u001b[0m\u001b[0m\n\u001b[1;32m     68\u001b[0m         \u001b[0mcurrentsum\u001b[0m \u001b[0;34m=\u001b[0m \u001b[0;34m[\u001b[0m\u001b[0;36m0\u001b[0m\u001b[0;34m]\u001b[0m \u001b[0;31m# necessary to pass by reference in python\u001b[0m\u001b[0;34m\u001b[0m\u001b[0;34m\u001b[0m\u001b[0m\n\u001b[0;32m---> 69\u001b[0;31m         \u001b[0mself\u001b[0m\u001b[0;34m.\u001b[0m\u001b[0msum_all_worker\u001b[0m\u001b[0;34m(\u001b[0m\u001b[0mname\u001b[0m\u001b[0;34m,\u001b[0m \u001b[0mcurrentsum\u001b[0m\u001b[0;34m,\u001b[0m \u001b[0mdate\u001b[0m\u001b[0;34m)\u001b[0m\u001b[0;34m\u001b[0m\u001b[0;34m\u001b[0m\u001b[0m\n\u001b[0m\u001b[1;32m     70\u001b[0m         \u001b[0;32mreturn\u001b[0m \u001b[0mfloat\u001b[0m\u001b[0;34m(\u001b[0m\u001b[0mcurrentsum\u001b[0m\u001b[0;34m[\u001b[0m\u001b[0;36m0\u001b[0m\u001b[0;34m]\u001b[0m\u001b[0;34m)\u001b[0m\u001b[0;34m\u001b[0m\u001b[0;34m\u001b[0m\u001b[0m\n\u001b[1;32m     71\u001b[0m \u001b[0;34m\u001b[0m\u001b[0m\n",
            "\u001b[0;32m<ipython-input-43-2e91b9e22d5b>\u001b[0m in \u001b[0;36msum_all_worker\u001b[0;34m(self, name, currentsum, date)\u001b[0m\n\u001b[1;32m     63\u001b[0m \u001b[0;34m\u001b[0m\u001b[0m\n\u001b[1;32m     64\u001b[0m         \u001b[0;32mfor\u001b[0m \u001b[0mnext\u001b[0m \u001b[0;32min\u001b[0m \u001b[0mself\u001b[0m\u001b[0;34m.\u001b[0m\u001b[0mindexdict\u001b[0m\u001b[0;34m[\u001b[0m\u001b[0mname\u001b[0m\u001b[0;34m]\u001b[0m\u001b[0;34m:\u001b[0m\u001b[0;34m\u001b[0m\u001b[0;34m\u001b[0m\u001b[0m\n\u001b[0;32m---> 65\u001b[0;31m             \u001b[0mself\u001b[0m\u001b[0;34m.\u001b[0m\u001b[0msum_all_worker\u001b[0m\u001b[0;34m(\u001b[0m\u001b[0mnext\u001b[0m\u001b[0;34m,\u001b[0m \u001b[0mcurrentsum\u001b[0m\u001b[0;34m)\u001b[0m\u001b[0;34m\u001b[0m\u001b[0;34m\u001b[0m\u001b[0m\n\u001b[0m\u001b[1;32m     66\u001b[0m \u001b[0;34m\u001b[0m\u001b[0m\n\u001b[1;32m     67\u001b[0m     \u001b[0;32mdef\u001b[0m \u001b[0msum_all\u001b[0m\u001b[0;34m(\u001b[0m\u001b[0mself\u001b[0m\u001b[0;34m,\u001b[0m \u001b[0mname\u001b[0m\u001b[0;34m:\u001b[0m\u001b[0mstr\u001b[0m\u001b[0;34m,\u001b[0m \u001b[0mdate\u001b[0m\u001b[0;34m:\u001b[0m\u001b[0mstr\u001b[0m\u001b[0;34m)\u001b[0m \u001b[0;34m->\u001b[0m \u001b[0mint\u001b[0m\u001b[0;34m:\u001b[0m\u001b[0;34m\u001b[0m\u001b[0;34m\u001b[0m\u001b[0m\n",
            "\u001b[0;31mTypeError\u001b[0m: sum_all_worker() missing 1 required positional argument: 'date'"
          ]
        }
      ]
    },
    {
      "cell_type": "code",
      "metadata": {
        "id": "w8hBFs5tAEw0"
      },
      "source": [
        ""
      ],
      "execution_count": null,
      "outputs": []
    }
  ]
}